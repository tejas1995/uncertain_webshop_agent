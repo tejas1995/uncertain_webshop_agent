{
 "cells": [
  {
   "cell_type": "code",
   "execution_count": 1,
   "metadata": {},
   "outputs": [
    {
     "name": "stdout",
     "output_type": "stream",
     "text": [
      "Loaded 50 v2 scenarios\n",
      "Loaded 50 v3 scenarios\n"
     ]
    }
   ],
   "source": [
    "import json\n",
    "import random\n",
    "\n",
    "v2_scenarios = json.load(open(\"scenario_data/v2_50scenarios.json\"))\n",
    "v3_scenarios = json.load(open(\"scenario_data/v3_50scenarios.json\"))\n",
    "\n",
    "print(f\"Loaded {len(v2_scenarios)} v2 scenarios\")\n",
    "print(f\"Loaded {len(v3_scenarios)} v3 scenarios\")"
   ]
  },
  {
   "cell_type": "markdown",
   "metadata": {},
   "source": [
    "The goal of each scenario is to buy a product that:\n",
    "1. Is of a certain type (e.g. protein bars)\n",
    "2. Has a certain set of attributes (e.g. gluten-free, low sugar)\n",
    "3. Is purchased with the correct set of preferences (e.g. when multiple flavors are available, the agent purchases the user's preferred flavor)\n",
    "4. Is priced under the user's budget\n",
    "\n",
    "Each scenario is constructed by starting from a single product from the WebShop database and selecting a set of desired attributes, preferences and a budget -- however, there could be other products in the database that also satisfy these criteria, and the agent would be rewarded for purchasing those products as well."
   ]
  },
  {
   "cell_type": "markdown",
   "metadata": {},
   "source": [
    "### v2 scenarios\n",
    "\n",
    "In v2, scenarios were constructed by prompting an LLM to generate an example scenario where a person would might want to purchase the product with the desired attributes. The attributes were not directly mentioned in the scenario text, but can (ideally) be inferred from the scenario or by asking follow-up questions to the users. Users were presented with the scenario text, and also informed about the desired attribute values, the desired product preferences (e.g. size, color) and their budget. "
   ]
  },
  {
   "cell_type": "code",
   "execution_count": 4,
   "metadata": {},
   "outputs": [
    {
     "name": "stdout",
     "output_type": "stream",
     "text": [
      "YOUR CURRENT SHOPPING SCENARIO:\n",
      "You’re planning a Friday pizza night for yourself and two friends, but you all recently started following a low-carb diet and one of your friends can’t eat grains, so you decide to buy frozen cauliflower pizza crusts to make sure everyone can enjoy homemade pizzas together.\n",
      "REQUIRED PRODUCT: frozen cauliflower pizza crust\n",
      "REQUIRED ATTRIBUTES: grain free, keto friendly, low calorie, protein serving\n",
      "PRODUCT PREFERENCES: \n",
      "- flavor: original italian\n",
      "- size: 9.75 ounce (pack of 3)\n",
      "BUDGET: $40\n"
     ]
    }
   ],
   "source": [
    "# Run the following cell to see the v2 scenarios\n",
    "s = random.choice(v2_scenarios)\n",
    "\n",
    "out_str = \"\"\"YOUR CURRENT SHOPPING SCENARIO:\n",
    "{scenario}\n",
    "REQUIRED PRODUCT: {product}\n",
    "REQUIRED ATTRIBUTES: {attributes}\n",
    "PRODUCT PREFERENCES: \n",
    "{preferences}\n",
    "BUDGET: {budget}\"\"\"\n",
    "\n",
    "print(out_str.format(\n",
    "    scenario=s[\"instruction_text\"], \n",
    "    product=s[\"product_type\"], \n",
    "    attributes=', '.join(s[\"attributes\"]), \n",
    "    preferences='\\n'.join([f\"- {k}: {v}\" for k, v in s['goal_options_dict'].items()]), \n",
    "    budget=f\"${s['price_upper']:.0f}\")\n",
    ")\n",
    "\n"
   ]
  },
  {
   "cell_type": "markdown",
   "metadata": {},
   "source": [
    "The problem with the v2 scenarios is that it was a little ambiguous about what the required attributes were, and how they connected to the scenario, so it was possible the agent would buy something with the wrong attribute because it hadn't been instructed by the user correctly."
   ]
  },
  {
   "cell_type": "markdown",
   "metadata": {},
   "source": [
    "### v3 Scenarios\n",
    "\n",
    "In v3, we generated additional reasoning for how all the attributes connected to the scenario. We also did smarter (LLM-based) selection of which attributes to select."
   ]
  },
  {
   "cell_type": "code",
   "execution_count": 3,
   "metadata": {},
   "outputs": [
    {
     "name": "stdout",
     "output_type": "stream",
     "text": [
      "YOUR CURRENT SHOPPING SCENARIO:\n",
      "You often take tea to work and like to keep a stash in your desk, and you are planning to host a small gathering for your friends who prefer organic beverages; you want to buy green tea bags to have enough for everyone and ensure each bag can be conveniently and cleanly shared.\n",
      "REQUIRED PRODUCT: green tea bags\n",
      "REQUIRED ATTRIBUTES: You want the product to have the following attributes:\n",
      "- Individually wrapped: You want each tea bag to stay fresh and be easy to bring to work or share with friends without making a mess, so individual wrapping is important for cleanliness and convenience.\n",
      "- Certified organic: Since your friends (and you) prefer organic beverages for health or ethical reasons, you want to choose tea that is certified organic to meet those preferences and provide peace of mind about quality.\n",
      "REQUIRED PREFERENCES:\n",
      "- flavor name: green tea bag\n",
      "- size: 100 count (pack of 1)\n",
      "BUDGET: $10\n"
     ]
    }
   ],
   "source": [
    "# Run the following cell to see the v3 scenarios\n",
    "\n",
    "s = random.choice(v3_scenarios)\n",
    "\n",
    "out_str = \"\"\"YOUR CURRENT SHOPPING SCENARIO:\n",
    "{scenario}\n",
    "REQUIRED PRODUCT: {product}\n",
    "REQUIRED ATTRIBUTES: {attributes}\n",
    "REQUIRED PREFERENCES:\n",
    "{preferences}\n",
    "BUDGET: {budget}\"\"\"\n",
    "\n",
    "print(out_str.format(\n",
    "    scenario=s[\"instruction_text\"], \n",
    "    product=s[\"product_type\"], \n",
    "    attributes=\"You want the product to have the following attributes:\\n\" + s['attribute_wise_reasoning'],\n",
    "    preferences='\\n'.join([f\"- {k}: {v}\" for k, v in s['goal_options_dict'].items()]), \n",
    "    budget=f\"${s['price_upper']:.0f}\")\n",
    ")"
   ]
  }
 ],
 "metadata": {
  "kernelspec": {
   "display_name": "tejasws",
   "language": "python",
   "name": "python3"
  },
  "language_info": {
   "codemirror_mode": {
    "name": "ipython",
    "version": 3
   },
   "file_extension": ".py",
   "mimetype": "text/x-python",
   "name": "python",
   "nbconvert_exporter": "python",
   "pygments_lexer": "ipython3",
   "version": "3.10.14"
  }
 },
 "nbformat": 4,
 "nbformat_minor": 2
}
